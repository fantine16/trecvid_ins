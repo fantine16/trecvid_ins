{
 "cells": [
  {
   "cell_type": "code",
   "execution_count": 1,
   "metadata": {
    "collapsed": true
   },
   "outputs": [],
   "source": [
    "require 'hdf5'\n",
    "featTotal=nil\n",
    "num=70\n",
    "stride=70\n",
    "flag=1\n"
   ]
  },
  {
   "cell_type": "code",
   "execution_count": 2,
   "metadata": {
    "collapsed": true
   },
   "outputs": [],
   "source": [
    "function getFeatByFileName(fileName)\n",
    "    local file=hdf5.open(fileName,'r')\n",
    "    local data = file:read('data'):all()\n",
    "    local dim=data:size()\n",
    "    local index=torch.range(1,dim[1]/70):long()\n",
    "    index = index * 70\n",
    "    local feat = data:index(1,index):contiguous()\n",
    "    file:close()\n",
    "    data=nil\n",
    "    collectgarbage()\n",
    "    return feat\n",
    "end"
   ]
  },
  {
   "cell_type": "code",
   "execution_count": 3,
   "metadata": {
    "collapsed": false
   },
   "outputs": [],
   "source": [
    "--feat=getFeatByFileName('1.h5')"
   ]
  },
  {
   "cell_type": "code",
   "execution_count": 4,
   "metadata": {
    "collapsed": false
   },
   "outputs": [],
   "source": [
    "for i=1,1 do\n",
    "    local fileName = tostring(i) .. '.h5'\n",
    "    local feat = getFeatByFileName(fileName)\n",
    "    if featTotal == nil then\n",
    "        featTotal = feat\n",
    "    else\n",
    "        featTotal=torch.cat(featTotal,feat,1)\n",
    "    end\n",
    "end"
   ]
  },
  {
   "cell_type": "code",
   "execution_count": 5,
   "metadata": {
    "collapsed": false
   },
   "outputs": [
    {
     "data": {
      "text/plain": [
       "torch.FloatTensor\t\n"
      ]
     },
     "execution_count": 5,
     "metadata": {},
     "output_type": "execute_result"
    }
   ],
   "source": [
    "torch.type(featTotal)"
   ]
  },
  {
   "cell_type": "code",
   "execution_count": 6,
   "metadata": {
    "collapsed": false
   },
   "outputs": [],
   "source": [
    "out=hdf5.open('rawData.h5','w')\n",
    "out:write('data',featTotal)\n",
    "out:close()"
   ]
  }
 ],
 "metadata": {
  "kernelspec": {
   "display_name": "iTorch",
   "language": "lua",
   "name": "itorch"
  },
  "language_info": {
   "name": "lua",
   "version": "5.1"
  }
 },
 "nbformat": 4,
 "nbformat_minor": 0
}
